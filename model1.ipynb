{
  "nbformat": 4,
  "nbformat_minor": 0,
  "metadata": {
    "colab": {
      "name": "model1.ipynb",
      "provenance": []
    },
    "kernelspec": {
      "name": "python3",
      "display_name": "Python 3"
    },
    "language_info": {
      "name": "python"
    }
  },
  "cells": [
    {
      "cell_type": "code",
      "metadata": {
        "id": "nSGA-5Cy8nji"
      },
      "source": [
        "import pandas as pd\n",
        "import numpy as np\n",
        "import math\n",
        "from ast import literal_eval\n",
        "from sklearn.feature_extraction.text import TfidfVectorizer, CountVectorizer\n",
        "from sklearn.metrics.pairwise import linear_kernel, cosine_similarity\n",
        "from sklearn.decomposition import TruncatedSVD\n",
        "from sklearn.preprocessing import StandardScaler, MinMaxScaler\n",
        "\n",
        "\n",
        "class ModelFirst:\n",
        "    def model1(self, selected_genres):\n",
        "        df = pd.read_csv('/content/drive/MyDrive/data/user_pref.csv')\n",
        "        new_movie_data = pd.read_csv('/content/drive/MyDrive/data/movieId&title.csv')\n",
        "        new_movie_data = new_movie_data[['id','genres']]\n",
        "\n",
        "        user_pref = df.to_numpy()\n",
        "        transformer = StandardScaler()\n",
        "        transformer.fit(user_pref)\n",
        "        standard_user_pref = transformer.transform(user_pref)\n",
        "        # print(standard_user_pref.shape)\n",
        "        df = pd.DataFrame(user_pref, columns=df.columns)\n",
        "        # print(df.head(3))\n",
        "        \n",
        "        first_genre_index = df[selected_genres[0]].sort_values(ascending=False).head(1400).index\n",
        "        second_genre_index = df[selected_genres[1]].sort_values(ascending=False).head(1400).index\n",
        "        \n",
        "        common_index = []\n",
        "        for idx in first_genre_index:\n",
        "            if idx in second_genre_index:\n",
        "                common_index.append(idx)\n",
        "\n",
        "        common_df = pd.DataFrame(index=range(0,len(common_index)), columns=df.columns)\n",
        "        i = 0\n",
        "        for idx in common_index:\n",
        "            common_df.iloc[i] = df.iloc[idx]\n",
        "            i = i + 1\n",
        "\n",
        "        common_np = common_df.to_numpy()\n",
        "        # 장르 유사도 계산\n",
        "        # vector = TfidfVectorizer()\n",
        "        # trans_data = np.array(new_movie_data['genres'].tolist())\n",
        "        # movie_genre_tfidf = vector.fit_transform(trans_data).toarray()\n",
        "\n",
        "        # SVD = TruncatedSVD(n_components=8)\n",
        "        # matrix = SVD.fit_transform(movie_genre_tfidf.T)\n",
        "        # matrix.shape\n",
        "        corr = np.load('/content/drive/MyDrive/data/corr_save.npy')\n",
        "\n",
        "        genre_title = df.columns\n",
        "        genre_list = list(genre_title)\n",
        "        first_corr_idx = genre_list.index(selected_genres[0])\n",
        "        second_corr_idx = genre_list.index(selected_genres[1])\n",
        "        common_corr = corr[first_corr_idx][second_corr_idx]\n",
        "\n",
        "        result_np = common_np * common_corr\n",
        "        result_df = pd.DataFrame(result_np, columns=genre_title)\n",
        "        result = result_df.max().idxmax()\n",
        "        \n",
        "        while(True): \n",
        "            if result in selected_genres:\n",
        "                result_df.drop(result, axis= 1, inplace=True)\n",
        "                result = result_df.max().idxmax()\n",
        "            else:\n",
        "                break\n",
        "\n",
        "        temp = selected_genres\n",
        "        result = list(result.split())\n",
        "        result = temp+result\n",
        "        return result\n"
      ],
      "execution_count": 11,
      "outputs": []
    },
    {
      "cell_type": "code",
      "metadata": {
        "colab": {
          "base_uri": "https://localhost:8080/"
        },
        "id": "CWx3YctYcFfZ",
        "outputId": "c2e9cc0a-9900-4cae-dfbe-cd9661262def"
      },
      "source": [
        "# c = ModelFirst()\n",
        "# selected_genre = ['Animation', 'Drama']\n",
        "# c.model1(selected_genre)"
      ],
      "execution_count": 12,
      "outputs": [
        {
          "output_type": "stream",
          "text": [
            "     Action  Adventure  Animation  ...  Thriller       War  Western\n",
            "0  1.129182   0.890254   0.632951  ...       0.0  0.700709      0.0\n",
            "1  1.286950   1.665838   2.116452  ...       0.0  0.000000      0.0\n",
            "2  2.382003   0.496014   0.000000  ...       0.0  0.000000      0.0\n",
            "\n",
            "[3 rows x 22 columns]\n"
          ],
          "name": "stdout"
        },
        {
          "output_type": "execute_result",
          "data": {
            "text/plain": [
              "['Animation', 'Drama', 'Comedy']"
            ]
          },
          "metadata": {
            "tags": []
          },
          "execution_count": 12
        }
      ]
    }
  ]
}