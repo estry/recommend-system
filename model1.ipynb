{
  "nbformat": 4,
  "nbformat_minor": 0,
  "metadata": {
    "colab": {
      "name": "model1.ipynb",
      "provenance": [],
      "mount_file_id": "1E37sn1O0tZ-s70MlWQa15kf-u8AgrvEu",
      "authorship_tag": "ABX9TyOUSd1earH+uxpxQOb2Dw5l",
      "include_colab_link": true
    },
    "kernelspec": {
      "name": "python3",
      "display_name": "Python 3"
    },
    "language_info": {
      "name": "python"
    }
  },
  "cells": [
    {
      "cell_type": "markdown",
      "metadata": {
        "id": "view-in-github",
        "colab_type": "text"
      },
      "source": [
        "<a href=\"https://colab.research.google.com/github/estry/recommend-system/blob/main/model1.ipynb\" target=\"_parent\"><img src=\"https://colab.research.google.com/assets/colab-badge.svg\" alt=\"Open In Colab\"/></a>"
      ]
    },
    {
      "cell_type": "code",
      "metadata": {
        "id": "nSGA-5Cy8nji"
      },
      "source": [
        "import pandas as pd\n",
        "import numpy as np\n",
        "import math\n",
        "import operator\n",
        "from ast import literal_eval\n",
        "from sklearn.feature_extraction.text import TfidfVectorizer, CountVectorizer\n",
        "from sklearn.metrics.pairwise import linear_kernel, cosine_similarity\n",
        "from sklearn.decomposition import TruncatedSVD\n",
        "from sklearn.preprocessing import StandardScaler, MinMaxScaler\n",
        "\n",
        "# 수정계획 1 : 상위 한개의 장르만 추출하는데 그게 아니라 상위 3개의 장르를 뽑아\n",
        "#             그 중 선택한 장르와 가장 상관관계가 높은 장르를 추천하는 것을 어떨까?\n",
        "class ModelFirst:\n",
        "    def model1(self, selected_genres):\n",
        "        df = pd.read_csv('/content/drive/MyDrive/data/user_pref.csv')\n",
        "\n",
        "        user_pref = df.to_numpy()\n",
        "        transformer = StandardScaler()\n",
        "        transformer.fit(user_pref)\n",
        "        standard_user_pref = transformer.transform(user_pref)\n",
        "        df = pd.DataFrame(user_pref, columns=df.columns)\n",
        "        \n",
        "        first_genre_index = df[selected_genres[0]].sort_values(ascending=False).head(1400).index\n",
        "        second_genre_index = df[selected_genres[1]].sort_values(ascending=False).head(1400).index\n",
        "        \n",
        "        common_index = []\n",
        "        for idx in first_genre_index:\n",
        "            if idx in second_genre_index:\n",
        "                common_index.append(idx)\n",
        "\n",
        "        common_df = pd.DataFrame(index=range(0,len(common_index)), columns=df.columns)\n",
        "        i = 0\n",
        "        for idx in common_index:\n",
        "            common_df.iloc[i] = df.iloc[idx]\n",
        "            i = i + 1\n",
        "\n",
        "        # common_np = common_df.to_numpy()\n",
        "        index = common_df.index\n",
        "        result_dict = {}\n",
        "        for i in index:\n",
        "            sorted_tuple = common_df.iloc[i].sort_values(ascending=False)\n",
        "            for genre in sorted_tuple.head(5).index.tolist():\n",
        "                if genre not in result_dict and genre not in selected_genres:\n",
        "                    result_dict[genre] = 0\n",
        "                if genre not in selected_genres:\n",
        "                    result_dict[genre] += 1\n",
        "\n",
        "        sorted_result_dict = sorted(result_dict.items(), key=operator.itemgetter(1), reverse=True)\n",
        "        recommend_genres = []\n",
        "        for k,v in sorted_result_dict:\n",
        "            if v >= 450:\n",
        "                recommend_genres.append(k)\n",
        "\n",
        "        corr = np.load('/content/drive/MyDrive/data/paper_corr_save.npy')\n",
        "\n",
        "        genre_title = df.columns\n",
        "        genre_list = list(genre_title)\n",
        "        first_corr_list = []\n",
        "        second_corr_list = []\n",
        "        first_idx= genre_list.index(selected_genres[0])\n",
        "        second_idx = genre_list.index(selected_genres[1])\n",
        "        for g in recommend_genres:\n",
        "            idx = genre_list.index(g)\n",
        "            first_corr_value = corr[first_idx][idx]\n",
        "            first_corr_list.append(first_corr_value)\n",
        "            second_corr_value = corr[second_idx][idx]\n",
        "            second_corr_list.append(second_corr_value)\n",
        "\n",
        "        mean_corr_list = np.array(first_corr_list) + np.array(second_corr_list)\n",
        "        mean_corr_list = mean_corr_list / 2\n",
        "\n",
        "        max = mean_corr_list.max()\n",
        "        mean_list = mean_corr_list.tolist()\n",
        "        mean_idx = mean_list.index(max)\n",
        "\n",
        "        result = recommend_genres[mean_idx]\n",
        "\n",
        "        # genre_title = df.columns\n",
        "        # genre_list = list(genre_title)\n",
        "        # first_corr_idx = genre_list.index(selected_genres[0])\n",
        "        # second_corr_idx = genre_list.index(selected_genres[1])\n",
        "        # common_corr = corr[first_corr_idx][second_corr_idx]\n",
        "        # print(common_corr)\n",
        "        # result_np = common_np * common_corr\n",
        "        # result_df = pd.DataFrame(result_np, columns=genre_title)\n",
        "        # result = result_df.max().idxmax()\n",
        "        \n",
        "        while(True): \n",
        "            if result in selected_genres:\n",
        "                result_df.drop(result, axis= 1, inplace=True)\n",
        "                result = result_df.max().idxmax()\n",
        "            else:\n",
        "                break\n",
        "\n",
        "        temp = selected_genres\n",
        "        result = list(result.split())\n",
        "        result = temp+result\n",
        "        return result\n"
      ],
      "execution_count": 3,
      "outputs": []
    },
    {
      "cell_type": "code",
      "metadata": {
        "colab": {
          "base_uri": "https://localhost:8080/"
        },
        "id": "CWx3YctYcFfZ",
        "outputId": "4ca3d4ed-fa10-4332-dc62-89830ae59c71"
      },
      "source": [
        "c = ModelFirst()\n",
        "selected_genre = ['Horror', 'Thriller']\n",
        "c.model1(selected_genre)"
      ],
      "execution_count": 5,
      "outputs": [
        {
          "output_type": "execute_result",
          "data": {
            "text/plain": [
              "['Horror', 'Thriller', 'Drama']"
            ]
          },
          "metadata": {
            "tags": []
          },
          "execution_count": 5
        }
      ]
    },
    {
      "cell_type": "code",
      "metadata": {
        "id": "CACxEwDrv5yx"
      },
      "source": [
        "new_movie_data = pd.read_csv('/content/drive/MyDrive/data/movieId&title.csv')\n",
        "new_movie_data = new_movie_data[['id','genres']]\n",
        "\n",
        "vector = TfidfVectorizer()\n",
        "trans_data = np.array(new_movie_data['genres'].tolist())\n",
        "movie_genre_tfidf = vector.fit_transform(trans_data).toarray()\n",
        "\n",
        "SVD = TruncatedSVD(n_components=8)\n",
        "matrix = SVD.fit_transform(movie_genre_tfidf.T)\n",
        "matrix.shape\n",
        "\n",
        "corr = np.corrcoef(matrix)\n",
        "np.save('corr_save',corr)"
      ],
      "execution_count": null,
      "outputs": []
    },
    {
      "cell_type": "code",
      "metadata": {
        "id": "mAK7XYvvwNcr"
      },
      "source": [
        ""
      ],
      "execution_count": null,
      "outputs": []
    }
  ]
}