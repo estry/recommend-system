{
  "nbformat": 4,
  "nbformat_minor": 0,
  "metadata": {
    "colab": {
      "name": "Untitled11.ipynb",
      "provenance": [],
      "mount_file_id": "1qmuBEMymDJUd32wUaT8BlkkRNfd7wvdb",
      "authorship_tag": "ABX9TyNiqR3rXTxHAjapfvGj/nHd",
      "include_colab_link": true
    },
    "kernelspec": {
      "name": "python3",
      "display_name": "Python 3"
    },
    "language_info": {
      "name": "python"
    }
  },
  "cells": [
    {
      "cell_type": "markdown",
      "metadata": {
        "id": "view-in-github",
        "colab_type": "text"
      },
      "source": [
        "<a href=\"https://colab.research.google.com/github/estry/recommend-system/blob/main/Untitled11.ipynb\" target=\"_parent\"><img src=\"https://colab.research.google.com/assets/colab-badge.svg\" alt=\"Open In Colab\"/></a>"
      ]
    },
    {
      "cell_type": "code",
      "metadata": {
        "colab": {
          "base_uri": "https://localhost:8080/"
        },
        "id": "5Y9p4Hf1AaBB",
        "outputId": "4150be44-cf72-4a43-9d64-43093b816f24"
      },
      "source": [
        "!pip install scikit-surprise"
      ],
      "execution_count": 1,
      "outputs": [
        {
          "output_type": "stream",
          "text": [
            "Collecting scikit-surprise\n",
            "\u001b[?25l  Downloading https://files.pythonhosted.org/packages/97/37/5d334adaf5ddd65da99fc65f6507e0e4599d092ba048f4302fe8775619e8/scikit-surprise-1.1.1.tar.gz (11.8MB)\n",
            "\u001b[K     |████████████████████████████████| 11.8MB 12.4MB/s \n",
            "\u001b[?25hRequirement already satisfied: joblib>=0.11 in /usr/local/lib/python3.7/dist-packages (from scikit-surprise) (1.0.1)\n",
            "Requirement already satisfied: numpy>=1.11.2 in /usr/local/lib/python3.7/dist-packages (from scikit-surprise) (1.19.5)\n",
            "Requirement already satisfied: scipy>=1.0.0 in /usr/local/lib/python3.7/dist-packages (from scikit-surprise) (1.4.1)\n",
            "Requirement already satisfied: six>=1.10.0 in /usr/local/lib/python3.7/dist-packages (from scikit-surprise) (1.15.0)\n",
            "Building wheels for collected packages: scikit-surprise\n",
            "  Building wheel for scikit-surprise (setup.py) ... \u001b[?25l\u001b[?25hdone\n",
            "  Created wheel for scikit-surprise: filename=scikit_surprise-1.1.1-cp37-cp37m-linux_x86_64.whl size=1617621 sha256=e416140c4af21ab6b151979a72dec77f311cca1d0811f0d302ae988c2c4f9adc\n",
            "  Stored in directory: /root/.cache/pip/wheels/78/9c/3d/41b419c9d2aff5b6e2b4c0fc8d25c538202834058f9ed110d0\n",
            "Successfully built scikit-surprise\n",
            "Installing collected packages: scikit-surprise\n",
            "Successfully installed scikit-surprise-1.1.1\n"
          ],
          "name": "stdout"
        }
      ]
    },
    {
      "cell_type": "code",
      "metadata": {
        "id": "ZKbeWli4oMew"
      },
      "source": [
        "from surprise import SVD, Dataset, accuracy, Reader\n",
        "from surprise.model_selection import train_test_split\n",
        "import pandas as pd"
      ],
      "execution_count": 1,
      "outputs": []
    },
    {
      "cell_type": "code",
      "metadata": {
        "id": "gLbFQiipoa-h"
      },
      "source": [
        "ratings  = pd.read_csv('/content/drive/MyDrive/data/new_rating.csv')\n",
        "reader = Reader(rating_scale=(0,5.0))"
      ],
      "execution_count": 3,
      "outputs": []
    },
    {
      "cell_type": "code",
      "metadata": {
        "id": "zqRcnCM1opfW"
      },
      "source": [
        "data = Dataset.load_from_df(ratings[['userId', 'id', 'rating']], reader)\n",
        "train, test = train_test_split(data, test_size=0.25, random_state=42)"
      ],
      "execution_count": 5,
      "outputs": []
    },
    {
      "cell_type": "code",
      "metadata": {
        "colab": {
          "base_uri": "https://localhost:8080/"
        },
        "id": "VeMIgxCzuC6R",
        "outputId": "23f652e5-ad7d-40b3-b5ee-7cf57cee60bd"
      },
      "source": [
        "model = SVD(n_factors=50, random_state=42)\n",
        "model.fit(train)\n",
        "predictions = model.test(test)\n",
        "accuracy.rmse(predictions)"
      ],
      "execution_count": 6,
      "outputs": [
        {
          "output_type": "stream",
          "text": [
            "RMSE: 0.8496\n"
          ],
          "name": "stdout"
        },
        {
          "output_type": "execute_result",
          "data": {
            "text/plain": [
              "0.8496295526865679"
            ]
          },
          "metadata": {
            "tags": []
          },
          "execution_count": 6
        }
      ]
    },
    {
      "cell_type": "code",
      "metadata": {
        "id": "w5HQ1pc4BaIS",
        "colab": {
          "base_uri": "https://localhost:8080/"
        },
        "outputId": "8d02d69a-5357-4b4f-8e66-f6e7c2a801ad"
      },
      "source": [
        "accuracy.mae(predictions)"
      ],
      "execution_count": 7,
      "outputs": [
        {
          "output_type": "stream",
          "text": [
            "MAE:  0.6498\n"
          ],
          "name": "stdout"
        },
        {
          "output_type": "execute_result",
          "data": {
            "text/plain": [
              "0.6498278633325706"
            ]
          },
          "metadata": {
            "tags": []
          },
          "execution_count": 7
        }
      ]
    },
    {
      "cell_type": "markdown",
      "metadata": {
        "id": "Zfc85ZdwzIou"
      },
      "source": [
        "factor = 75\n",
        "\n",
        "RMSE: 0.8504\n",
        "0.8503766933040544\n",
        "\n",
        "factor = 50\n",
        "\n",
        "RMSE: 0.8496\n",
        "0.8496295526865679\n",
        "\n"
      ]
    },
    {
      "cell_type": "code",
      "metadata": {
        "id": "mTls70dquZFK",
        "colab": {
          "base_uri": "https://localhost:8080/"
        },
        "outputId": "06503add-7d83-494e-d403-413a2df78805"
      },
      "source": [
        "from surprise.model_selection import cross_validate\n",
        "\n",
        "ratings  = pd.read_csv('/content/drive/MyDrive/data/new_rating.csv')\n",
        "reader = Reader(rating_scale=(0, 5.0))\n",
        "data = Dataset.load_from_df(ratings[['userId','id','rating']], reader)\n",
        "\n",
        "model_cv = SVD(random_state=42)\n",
        "cross_validate(model_cv, data, measures=['RMSE','MAE'], cv=5, verbose=True)"
      ],
      "execution_count": 9,
      "outputs": [
        {
          "output_type": "stream",
          "text": [
            "Evaluating RMSE, MAE of algorithm SVD on 5 split(s).\n",
            "\n",
            "                  Fold 1  Fold 2  Fold 3  Fold 4  Fold 5  Mean    Std     \n",
            "RMSE (testset)    0.8472  0.8472  0.8465  0.8486  0.8488  0.8477  0.0009  \n",
            "MAE (testset)     0.6473  0.6480  0.6471  0.6488  0.6486  0.6480  0.0007  \n",
            "Fit time          375.07  378.38  383.24  376.24  380.85  378.76  2.98    \n",
            "Test time         24.65   24.31   24.59   23.31   24.05   24.18   0.49    \n"
          ],
          "name": "stdout"
        },
        {
          "output_type": "execute_result",
          "data": {
            "text/plain": [
              "{'fit_time': (375.07488560676575,\n",
              "  378.3756320476532,\n",
              "  383.236212015152,\n",
              "  376.2419202327728,\n",
              "  380.8467094898224),\n",
              " 'test_mae': array([0.64731056, 0.64801745, 0.64711371, 0.64878839, 0.64859876]),\n",
              " 'test_rmse': array([0.84716398, 0.84724684, 0.84647018, 0.84855664, 0.84884187]),\n",
              " 'test_time': (24.650150537490845,\n",
              "  24.31017756462097,\n",
              "  24.585002660751343,\n",
              "  23.306503534317017,\n",
              "  24.04714035987854)}"
            ]
          },
          "metadata": {
            "tags": []
          },
          "execution_count": 9
        }
      ]
    },
    {
      "cell_type": "code",
      "metadata": {
        "id": "YRaNjk_gsAqT"
      },
      "source": [
        "ratings  = pd.read_csv('/content/drive/MyDrive/data/new_rating.csv')\n",
        "reader = Reader(rating_scale=(0, 5.0))\n",
        "data = Dataset.load_from_df(ratings[['userId','id','rating']], reader)"
      ],
      "execution_count": 5,
      "outputs": []
    },
    {
      "cell_type": "code",
      "metadata": {
        "colab": {
          "base_uri": "https://localhost:8080/"
        },
        "id": "WI8CtQIrBNNE",
        "outputId": "9ecf994d-6a57-4c89-c751-a9dd63c8b7de"
      },
      "source": [
        "from surprise.model_selection import GridSearchCV\n",
        "\n",
        "param = {'n_epochs': [20,40], 'n_factors':[50,100]}\n",
        "\n",
        "model_gs = GridSearchCV(SVD, param, measures=['rmse', 'mae'], cv=2)\n",
        "model_gs.fit(data)\n",
        "\n",
        "print(model_gs.best_score['rmse'])\n",
        "print(model_gs.best_params['rmse'])\n",
        "print(model_gs.best_score['mae'])\n",
        "print(model_gs.best_params['mae'])"
      ],
      "execution_count": 7,
      "outputs": [
        {
          "output_type": "stream",
          "text": [
            "0.871874082083368\n",
            "{'n_epochs': 20, 'n_factors': 50}\n",
            "0.6696676856503423\n",
            "{'n_epochs': 20, 'n_factors': 50}\n"
          ],
          "name": "stdout"
        }
      ]
    },
    {
      "cell_type": "code",
      "metadata": {
        "id": "XufVQ4yh2Km-"
      },
      "source": [
        "import numpy as np\n",
        "from sklearn.metrics import mean_squared_error\n",
        "\n",
        "def get_rmse(R, P, Q, non_zeros):\n",
        "    error = 0\n",
        "    # 두개의 분해된 행렬 P와 Q.T의 내적 곱으로 예측 R 행렬 생성\n",
        "    full_pred_matrix = np.dot(P, Q.T)\n",
        "    \n",
        "    # 실제 R 행렬에서 널이 아닌 값의 위치 인덱스 추출하여 실제 R 행렬과 예측 행렬의 RMSE 추출\n",
        "    x_non_zero_ind = [non_zero[0] for non_zero in non_zeros]\n",
        "    y_non_zero_ind = [non_zero[1] for non_zero in non_zeros]\n",
        "    R_non_zeros = R[x_non_zero_ind, y_non_zero_ind]\n",
        "    \n",
        "    full_pred_matrix_non_zeros = full_pred_matrix[x_non_zero_ind, y_non_zero_ind]\n",
        "      \n",
        "    mse = mean_squared_error(R_non_zeros, full_pred_matrix_non_zeros)\n",
        "    rmse = np.sqrt(mse)\n",
        "    \n",
        "    return rmse"
      ],
      "execution_count": 1,
      "outputs": []
    },
    {
      "cell_type": "code",
      "metadata": {
        "id": "cPBAjtzSqGlp"
      },
      "source": [
        "def matrix_factorization(R, K, steps=200, learning_rate=0.1, r_lambda = 0.01):\n",
        "    num_x, num_y = R.shape\n",
        "    np.random.seed(42)\n",
        "    P = np.random.normal(scale=1./K, size=(num_x, K))\n",
        "    Q = np.random.normal(scale=1./K, size=(num_y, K))\n",
        "\n",
        "    prev_rmse = 10000\n",
        "    break_count = 0\n",
        "\n",
        "    non_zeros = [(i,j,R[i,j]) for i in range(num_x) for j in range(num_y)]\n",
        "\n",
        "    for step in range(steps):\n",
        "        for i, j, r in non_zeros:\n",
        "            eij = r - np.dot(P[i, : ], Q[j, :].T)\n",
        "            P[i,:] = P[i,:] + learning_rate*(eij * Q[j, :] - r_lambda*P[i,:])\n",
        "            Q[j, :] = Q[j,:] + learning_rate*(eij * P[i,:] - r_lambda*Q[j,:])\n",
        "\n",
        "    rmse = get_rmse(R,P,Q, non_zeros)\n",
        "    if (step % 10) == 0:\n",
        "        print(\"### iteration step : \", step, \" rmse : \", rmse)\n",
        "\n",
        "    return P, Q"
      ],
      "execution_count": 2,
      "outputs": []
    },
    {
      "cell_type": "code",
      "metadata": {
        "id": "MViEo99O3pdT"
      },
      "source": [
        "# import pandas as pd\n",
        "# import numpy as np\n",
        "\n",
        "# movies = pd.read_csv('/content/drive/MyDrive/data/movieId&title.csv')\n",
        "# ratings = pd.read_csv('/content/drive/MyDrive/data/new_rating.csv')\n",
        "# ratings = ratings[['userId', 'id', 'rating']]\n",
        "# ratings_matrix = ratings.pivot_table('rating', index='userId', columns='id')\n",
        "\n",
        "# # title 컬럼을 얻기 이해 movies 와 조인 수행\n",
        "# rating_movies = pd.merge(ratings, movies, on='id')\n",
        "\n",
        "# # columns='title' 로 title 컬럼으로 pivot 수행. \n",
        "# ratings_matrix = rating_movies.pivot_table('rating', index='userId', columns='title')"
      ],
      "execution_count": null,
      "outputs": []
    },
    {
      "cell_type": "code",
      "metadata": {
        "id": "Gh5Y_G8V4AK_"
      },
      "source": [
        "# rating_matrix"
      ],
      "execution_count": null,
      "outputs": []
    },
    {
      "cell_type": "code",
      "metadata": {
        "colab": {
          "base_uri": "https://localhost:8080/",
          "height": 208
        },
        "id": "26fbc-u03p-U",
        "outputId": "8a0c1973-c89d-495c-9478-0b32cc034246"
      },
      "source": [
        "\n",
        "# P, Q = matrix_factorization(ratings_matrix.values, K=50, steps=200, learning_rate=0.01, r_lambda = 0.01)\n",
        "# pred_matrix = np.dot(P, Q.T)"
      ],
      "execution_count": 3,
      "outputs": [
        {
          "output_type": "error",
          "ename": "NameError",
          "evalue": "ignored",
          "traceback": [
            "\u001b[0;31m---------------------------------------------------------------------------\u001b[0m",
            "\u001b[0;31mNameError\u001b[0m                                 Traceback (most recent call last)",
            "\u001b[0;32m<ipython-input-3-231b19d6a6a8>\u001b[0m in \u001b[0;36m<module>\u001b[0;34m()\u001b[0m\n\u001b[1;32m      1\u001b[0m \u001b[0;34m\u001b[0m\u001b[0m\n\u001b[0;32m----> 2\u001b[0;31m \u001b[0mP\u001b[0m\u001b[0;34m,\u001b[0m \u001b[0mQ\u001b[0m \u001b[0;34m=\u001b[0m \u001b[0mmatrix_factorization\u001b[0m\u001b[0;34m(\u001b[0m\u001b[0mratings_matrix\u001b[0m\u001b[0;34m.\u001b[0m\u001b[0mvalues\u001b[0m\u001b[0;34m,\u001b[0m \u001b[0mK\u001b[0m\u001b[0;34m=\u001b[0m\u001b[0;36m50\u001b[0m\u001b[0;34m,\u001b[0m \u001b[0msteps\u001b[0m\u001b[0;34m=\u001b[0m\u001b[0;36m200\u001b[0m\u001b[0;34m,\u001b[0m \u001b[0mlearning_rate\u001b[0m\u001b[0;34m=\u001b[0m\u001b[0;36m0.01\u001b[0m\u001b[0;34m,\u001b[0m \u001b[0mr_lambda\u001b[0m \u001b[0;34m=\u001b[0m \u001b[0;36m0.01\u001b[0m\u001b[0;34m)\u001b[0m\u001b[0;34m\u001b[0m\u001b[0;34m\u001b[0m\u001b[0m\n\u001b[0m\u001b[1;32m      3\u001b[0m \u001b[0mpred_matrix\u001b[0m \u001b[0;34m=\u001b[0m \u001b[0mnp\u001b[0m\u001b[0;34m.\u001b[0m\u001b[0mdot\u001b[0m\u001b[0;34m(\u001b[0m\u001b[0mP\u001b[0m\u001b[0;34m,\u001b[0m \u001b[0mQ\u001b[0m\u001b[0;34m.\u001b[0m\u001b[0mT\u001b[0m\u001b[0;34m)\u001b[0m\u001b[0;34m\u001b[0m\u001b[0;34m\u001b[0m\u001b[0m\n",
            "\u001b[0;31mNameError\u001b[0m: name 'ratings_matrix' is not defined"
          ]
        }
      ]
    },
    {
      "cell_type": "code",
      "metadata": {
        "id": "8fHPPxJI2JO0"
      },
      "source": [
        "# ratings_pred_matrix = pd.DataFrame(data=pred_matrix, index= ratings_matrix.index,\n",
        "#                                    columns = ratings_matrix.columns)\n",
        "\n",
        "# ratings_pred_matrix.head(3)"
      ],
      "execution_count": null,
      "outputs": []
    },
    {
      "cell_type": "code",
      "metadata": {
        "id": "fF9NTljI3b1W"
      },
      "source": [
        "def get_unseen_movies(ratings_matrix, userId):\n",
        "    # userId로 입력받은 사용자의 모든 영화정보 추출하여 Series로 반환함. \n",
        "    # 반환된 user_rating 은 영화명(title)을 index로 가지는 Series 객체임. \n",
        "    user_rating = ratings_matrix.loc[userId,:]\n",
        "    \n",
        "    # user_rating이 0보다 크면 기존에 관람한 영화임. 대상 index를 추출하여 list 객체로 만듬\n",
        "    already_seen = user_rating[ user_rating > 0].index.tolist()\n",
        "    \n",
        "    # 모든 영화명을 list 객체로 만듬. \n",
        "    movies_list = ratings_matrix.columns.tolist()\n",
        "    \n",
        "    # list comprehension으로 already_seen에 해당하는 movie는 movies_list에서 제외함. \n",
        "    unseen_list = [ movie for movie in movies_list if movie not in already_seen]\n",
        "    \n",
        "    return unseen_list"
      ],
      "execution_count": null,
      "outputs": []
    },
    {
      "cell_type": "code",
      "metadata": {
        "id": "g1cxhLsz3gTK"
      },
      "source": [
        "def recomm_movie_by_userid(pred_df, userId, unseen_list, top_n=10):\n",
        "    # 예측 평점 DataFrame에서 사용자id index와 unseen_list로 들어온 영화명 컬럼을 추출하여\n",
        "    # 가장 예측 평점이 높은 순으로 정렬함. \n",
        "    recomm_movies = pred_df.loc[userId, unseen_list].sort_values(ascending=False)[:top_n]\n",
        "    return recomm_movies"
      ],
      "execution_count": null,
      "outputs": []
    },
    {
      "cell_type": "code",
      "metadata": {
        "id": "JtbPkAlr3kXe"
      },
      "source": [
        "# # 사용자가 관람하지 않는 영화명 추출   \n",
        "# unseen_list = get_unseen_movies(ratings_matrix, 9)\n",
        "\n",
        "# # 아이템 기반의 인접 이웃 협업 필터링으로 영화 추천 \n",
        "# recomm_movies = recomm_movie_by_userid(ratings_pred_matrix, 9, unseen_list, top_n=10)\n",
        "\n",
        "# # 평점 데이타를 DataFrame으로 생성. \n",
        "# recomm_movies = pd.DataFrame(data=recomm_movies.values,index=recomm_movies.index,columns=['pred_score'])\n",
        "# recomm_movies"
      ],
      "execution_count": null,
      "outputs": []
    }
  ]
}